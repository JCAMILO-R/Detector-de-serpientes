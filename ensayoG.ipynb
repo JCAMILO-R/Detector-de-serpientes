{
 "cells": [
  {
   "cell_type": "markdown",
   "metadata": {},
   "source": [
    "# Documentos estado del arte."
   ]
  },
  {
   "cell_type": "markdown",
   "metadata": {},
   "source": [
    "### Machine learning for image based species identification\n",
    "Patrick Mäder\n",
    "Prof. Dr.-Ing. (JP) of Computer Science, Technische Universität Ilmenau\n",
    "https://scholar.google.com/citations?user=LPzoSrsAAAAJ&hl=es&oi=sra\n",
    "Citas\t2050\n",
    "Índice h\t26\t20\n",
    "\n",
    "Jana Wäldchen (https://www.bgc-jena.mpg.de/bgi/index.php/People/JanaWaeldchen)\n",
    "tiene una buena formacion academica, ha realizado diversas publicaciones y participado en algunos proyectos a un que en https://www.researchgate.net/scientific-contributions/2001407819_Jana_Waeldchen tiene unas 322 citas(01/03/2020)\n",
    "\n",
    "\n",
    "### Snake species identification by using natural language processing\n",
    "R Badlishah Ahmad\n",
    "https://scholar.google.ro/citations?user=durU81wAAAAJ&hl=es&oi=sra\n",
    "Universiti Malaysia Perlis (UniMAP)\n",
    "Citas\t3229\t\n",
    "Índice h\t22\t18\n",
    "\n",
    "Amiza Amir\n",
    "https://scholar.google.ro/citations?user=9Q4dIc4AAAAJ&hl=es&oi=sra\n",
    "Lecturer, SCCE, University Malaysia Perlis (UniMAP)\n",
    "Citas\t147\t\n",
    "Índice h\t5\t5\n",
    "\n",
    "Nik Adilah Hanin Zahri\n",
    "https://scholar.google.ro/citations?user=A5julb4AAAAJ&hl=es&oi=sra\n",
    "Senior Lecturer, University of Malaysia Perlis\n",
    "Citas\t81\n",
    "Índice h\t4\t4\n",
    "\n",
    "### Snake classification from images\n",
    "Alex James(https://ieeexplore.ieee.org/author/37391662800)\n",
    "tiene una buen cantidad de publicaciones en total son 189\n",
    "la cantidad total de citaciones por sus trabajos llegan a 961\n",
    "Citaciones altamente influyentes son: 33\n",
    "esto segun la https://www.semanticscholar.org/author/Alex-Pappachen-James/1744784 ingresado en 01/03/2020\n",
    "\n",
    "### Clasificación de la imagen de la serpiente utilizando redes siamesas\n",
    "Indika Perera\n",
    "https://scholar.google.ro/citations?user=7txwaPoAAAAJ&hl=es&oi=sra\n",
    "hace parte del Departamento de Ciencias de la Computación e Ingeniería, Universidad de Moratuwa\n",
    "Citas\t838\t\n",
    "Índice h\t15\n",
    "\n",
    "Anuradha Welivita\n",
    "https://scholar.google.ro/citations?user=uQd3Ah4AAAAJ&hl=es&oi=sra\n",
    "Profesor de la Universidad de Moratuwa\n",
    "Citas\t21\t\n",
    "Índice h\t3\n",
    "el otro integrande del articulo no a relaizado mas investigaciones relevantes.\n",
    "\n",
    "### Modeling the spatial distribution of snake species under a changing climate scenario in Spain \n",
    "Francis Kamau Muthoni\n",
    "\n",
    "### Visión por computadora: identificación, clasificación y seguimiento de objetos. \n",
    "http://www.une.edu.py:83/fpunescientific/index.php/fpunescientific/article/view/137\n",
    "\n",
    "\n",
    "### Snakebite and snake identification: empowering neglected communities and health-care providers with AI\n"
   ]
  },
  {
   "cell_type": "code",
   "execution_count": null,
   "metadata": {},
   "outputs": [],
   "source": []
  }
 ],
 "metadata": {
  "kernelspec": {
   "display_name": "Python 3",
   "language": "python",
   "name": "python3"
  },
  "language_info": {
   "codemirror_mode": {
    "name": "ipython",
    "version": 3
   },
   "file_extension": ".py",
   "mimetype": "text/x-python",
   "name": "python",
   "nbconvert_exporter": "python",
   "pygments_lexer": "ipython3",
   "version": "3.7.4"
  }
 },
 "nbformat": 4,
 "nbformat_minor": 2
}
